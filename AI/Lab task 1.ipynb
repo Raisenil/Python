{
 "metadata": {
  "language_info": {
   "codemirror_mode": {
    "name": "ipython",
    "version": 3
   },
   "file_extension": ".py",
   "mimetype": "text/x-python",
   "name": "python",
   "nbconvert_exporter": "python",
   "pygments_lexer": "ipython3",
   "version": "3.8.3-final"
  },
  "orig_nbformat": 2,
  "kernelspec": {
   "name": "python3",
   "display_name": "Python 3.8.3 32-bit",
   "metadata": {
    "interpreter": {
     "hash": "7a542ca580817fc4dd55327026e074e2fa0cd470fc5dee9350c2d8b13822db8d"
    }
   }
  }
 },
 "nbformat": 4,
 "nbformat_minor": 2,
 "cells": [
  {
   "cell_type": "code",
   "execution_count": 4,
   "metadata": {},
   "outputs": [
    {
     "output_type": "stream",
     "name": "stdout",
     "text": [
      "The Stack is : \n['1', '2', '3', '4', '5']\nSize of the Stack is : \n5\nLast element of the Stack is : \n5\nAfter PoP the Stack is : \n['1', '2', '3', '4']\nSize of the Stack is : \n4\nLast element of the Stack is : \n4\nIs the Stack empty : \nFalse\n"
     ]
    }
   ],
   "source": [
    "class Stack(object):\n",
    "\n",
    "    def __init__(self):\n",
    "        self.item = []\n",
    "\n",
    "    def push(self, item = ''):\n",
    "\n",
    "        \n",
    "        self.item.append(item)\n",
    "        pass\n",
    "\n",
    "    def pop(self):\n",
    "        \n",
    "        self.item.pop()\n",
    "        pass\n",
    "\n",
    "    def peek(self):\n",
    "        \n",
    "        if self.item:\n",
    "            return self.item[-1]\n",
    "        else:\n",
    "            return None\n",
    "\n",
    "    def size(self):\n",
    "        if self.item:\n",
    "            return len(self.item)\n",
    "        else:\n",
    "            return None\n",
    "\n",
    "    def isempty(self):\n",
    "\n",
    "        \n",
    "        if self.item == []:\n",
    "            return True\n",
    "        else:\n",
    "            return False\n",
    "\n",
    "    def show(self):\n",
    "        if self.item == []:\n",
    "            print(\"The Stack is empty\")\n",
    "        else:\n",
    "            return self.item          \n",
    "\n",
    "if __name__ == \"__main__\":\n",
    "    stack = Stack()\n",
    "\n",
    "    stack.push(\"1\")\n",
    "    stack.push('2')\n",
    "    stack.push('3')\n",
    "    stack.push('4')\n",
    "    stack.push('5')\n",
    "    print(\"The Stack is : \")\n",
    "    print(stack.show())\n",
    "    print(\"Size of the Stack is : \")\n",
    "    print(stack.size())\n",
    "    print(\"Last element of the Stack is : \")\n",
    "    print(stack.peek())\n",
    "\n",
    "\n",
    "    stack.pop()\n",
    "    print(\"After PoP the Stack is : \")\n",
    "    print(stack.show())\n",
    "    print(\"Size of the Stack is : \")\n",
    "    print(stack.size())\n",
    "    print(\"Last element of the Stack is : \")\n",
    "    print(stack.peek())\n",
    "\n",
    "    print(\"Is the Stack empty : \")\n",
    "    print(stack.isempty())"
   ]
  },
  {
   "cell_type": "code",
   "execution_count": 3,
   "metadata": {},
   "outputs": [
    {
     "output_type": "stream",
     "name": "stdout",
     "text": [
      "The Queue : \t[6, 5, 4, 3, 2, 1]\nSize of the Queue :\t6\nPeek of the Queue : \t1\nThe Queue after dequeue : \t[6, 5, 4, 3, 2]\nSize of the Queue : \t5\nPeek of the Queue : \t2\n"
     ]
    }
   ],
   "source": [
    "class Queue(object):\n",
    "    def __init__(self):\n",
    "        self.item = []\n",
    "\n",
    "    def enqueue(self, item):\n",
    "        self.item.insert(0, item)\n",
    "\n",
    "    def dequeue(self):\n",
    "        if self.item:\n",
    "            self.item.pop()\n",
    "        else:\n",
    "            return None\n",
    "\n",
    "    def peek(self):\n",
    "        if self.item:\n",
    "            return self.item[-1]\n",
    "\n",
    "    def isempty(self):\n",
    "        if self.item == []:\n",
    "            return True\n",
    "        else:\n",
    "            return False\n",
    "\n",
    "    def size(self):\n",
    "        return len(self.item)\n",
    "\n",
    "    def show(self):\n",
    "        if self.item == []:\n",
    "            print(\"The Stack is empty\")\n",
    "        else:\n",
    "            return self.item    \n",
    "\n",
    "if __name__ == \"__main__\":\n",
    "    queue = Queue()\n",
    "    queue.enqueue(item=1)\n",
    "    queue.enqueue(item=2)\n",
    "    queue.enqueue(item=3)\n",
    "    queue.enqueue(item=4)\n",
    "    queue.enqueue(item=5)\n",
    "    queue.enqueue(item=6)\n",
    "    print(\"The Queue : \\t{}\".format(queue.show()))\n",
    "    print(\"Size of the Queue :\\t{}\".format(queue.size()))\n",
    "    print(\"Peek of the Queue : \\t{}\".format(queue.peek()))\n",
    "\n",
    "    queue.dequeue()\n",
    "    print(\"The Queue after dequeue : \\t{}\".format(queue.show()))\n",
    "    print(\"Size of the Queue : \\t{}\".format(queue.size()))\n",
    "    print(\"Peek of the Queue : \\t{}\".format(queue.peek()))"
   ]
  },
  {
   "cell_type": "code",
   "execution_count": null,
   "metadata": {},
   "outputs": [],
   "source": []
  }
 ]
}