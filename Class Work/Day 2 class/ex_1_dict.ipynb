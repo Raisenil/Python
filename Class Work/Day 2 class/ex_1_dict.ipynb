{
 "cells": [
  {
   "cell_type": "markdown",
   "metadata": {},
   "source": [
    "# Dictionary\n",
    "    - stores a map from one type of object (KEY) to another (VALUE)\n",
    "    - KEY VALUE pair\n",
    "    - simillar to map in java or objects in JS\n",
    "    - The KEY must be an immutable type (string, number, tuple)\n",
    "    - The VALUE can be of any python data types\n",
    "    - The ordering of the KEYS depend on the hashing algorithm, thus it is arbitary\n",
    "    - your code should never rely on the ordering of the KEYS in a Dictionary\n",
    "    - use {} to create a dictionary"
   ]
  },
  {
   "cell_type": "code",
   "execution_count": 2,
   "metadata": {},
   "outputs": [
    {
     "name": "stdout",
     "output_type": "stream",
     "text": [
      "{'rasel': 70.99, 'ashraful': 90.87, 'ashik': 95.35}\n"
     ]
    }
   ],
   "source": [
    "stdDict = {'rasel': 70.99, 'ashraful': 90.87, 'ashik': 95.35}\n",
    "print(stdDict)"
   ]
  },
  {
   "cell_type": "code",
   "execution_count": 3,
   "metadata": {},
   "outputs": [
    {
     "name": "stdout",
     "output_type": "stream",
     "text": [
      "90.87\n"
     ]
    }
   ],
   "source": [
    "print(stdDict['ashraful'])"
   ]
  },
  {
   "cell_type": "code",
   "execution_count": 4,
   "metadata": {},
   "outputs": [
    {
     "name": "stdout",
     "output_type": "stream",
     "text": [
      "{'rasel': 70.99, 'ashraful': 90.87, 'ashik': 95.35, 'abc': 45.33}\n"
     ]
    }
   ],
   "source": [
    "stdDict['abc'] = 45.33\n",
    "print(stdDict)"
   ]
  },
  {
   "cell_type": "code",
   "execution_count": 5,
   "metadata": {},
   "outputs": [
    {
     "name": "stdout",
     "output_type": "stream",
     "text": [
      "{'rasel': 70.99, 'ashraful': 90.87, 'ashik': 22, 'abc': 45.33}\n"
     ]
    }
   ],
   "source": [
    "stdDict['ashik'] = 22\n",
    "print(stdDict)"
   ]
  },
  {
   "cell_type": "code",
   "execution_count": 6,
   "metadata": {},
   "outputs": [
    {
     "name": "stdout",
     "output_type": "stream",
     "text": [
      "rasel\n",
      "ashraful\n",
      "ashik\n",
      "abc\n"
     ]
    }
   ],
   "source": [
    "for s in stdDict:\n",
    "    print(s)"
   ]
  },
  {
   "cell_type": "code",
   "execution_count": 8,
   "metadata": {},
   "outputs": [
    {
     "name": "stdout",
     "output_type": "stream",
     "text": [
      "rasel 70.99\n",
      "ashraful 90.87\n",
      "ashik 22\n",
      "abc 45.33\n"
     ]
    }
   ],
   "source": [
    "for s in stdDict:\n",
    "    v = stdDict[s]\n",
    "    print(s, v)"
   ]
  },
  {
   "cell_type": "code",
   "execution_count": 10,
   "metadata": {},
   "outputs": [
    {
     "name": "stdout",
     "output_type": "stream",
     "text": [
      "rasel expects 70.99 marks in the mid term.\n",
      "ashraful expects 90.87 marks in the mid term.\n",
      "ashik expects 22.00 marks in the mid term.\n",
      "abc expects 45.33 marks in the mid term.\n"
     ]
    }
   ],
   "source": [
    "for s,m in stdDict.items():\n",
    "    print('%s expects %0.2f marks in the mid term.' % (s,m))"
   ]
  },
  {
   "cell_type": "code",
   "execution_count": 11,
   "metadata": {},
   "outputs": [
    {
     "name": "stdout",
     "output_type": "stream",
     "text": [
      "{0: 0, 1: 1, 2: 2, 3: 3, 4: 4, 5: 5}\n"
     ]
    }
   ],
   "source": [
    "nums = [0,1,2,3,4,5]\n",
    "nums_dict = {a:a for a in nums}\n",
    "print(nums_dict)"
   ]
  },
  {
   "cell_type": "code",
   "execution_count": 12,
   "metadata": {},
   "outputs": [
    {
     "name": "stdout",
     "output_type": "stream",
     "text": [
      "{0: 0, 1: 1, 2: 4, 3: 9, 4: 16, 5: 25}\n"
     ]
    }
   ],
   "source": [
    "sq = {a: a**2 for a in nums}\n",
    "print(sq)"
   ]
  },
  {
   "cell_type": "code",
   "execution_count": 13,
   "metadata": {},
   "outputs": [
    {
     "name": "stdout",
     "output_type": "stream",
     "text": [
      "{0: 0, 2: 4, 4: 16}\n"
     ]
    }
   ],
   "source": [
    "sq_even = {a:a**2 for a in nums if a%2==0}\n",
    "print(sq_even)"
   ]
  },
  {
   "cell_type": "code",
   "execution_count": null,
   "metadata": {},
   "outputs": [],
   "source": []
  }
 ],
 "metadata": {
  "kernelspec": {
   "display_name": "Python 3",
   "language": "python",
   "name": "python3"
  },
  "language_info": {
   "codemirror_mode": {
    "name": "ipython",
    "version": 3
   },
   "file_extension": ".py",
   "mimetype": "text/x-python",
   "name": "python",
   "nbconvert_exporter": "python",
   "pygments_lexer": "ipython3",
   "version": "3.7.4"
  }
 },
 "nbformat": 4,
 "nbformat_minor": 2
}
