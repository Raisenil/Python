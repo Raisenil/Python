{
 "cells": [
  {
   "cell_type": "markdown",
   "metadata": {},
   "source": [
    "# Data Structure\n",
    "    * Built-in Datatypes\n",
    "        - List\n",
    "        - Dictionary\n",
    "        - Tuple\n",
    "        - Set\n",
    "    * User defined datatypes\n",
    "        - Stack\n",
    "        - Queue\n",
    "        - Tree\n",
    "        - Graph\n",
    "        - Linked list\n",
    "        - Hashmap"
   ]
  },
  {
   "cell_type": "markdown",
   "metadata": {},
   "source": [
    "# List\n",
    "    - Stores a sequence of items\n",
    "    - Can contain diffrent datatypes\n",
    "    - Lists are mutable\n",
    "    - use square brackets [] to create a list"
   ]
  },
  {
   "cell_type": "code",
   "execution_count": 1,
   "metadata": {},
   "outputs": [
    {
     "name": "stdout",
     "output_type": "stream",
     "text": [
      "<class 'list'>\n"
     ]
    }
   ],
   "source": [
    "language_courses = ['C', 'C++', 'JAVA', 'C Sharp']\n",
    "print(type(language_courses))"
   ]
  },
  {
   "cell_type": "code",
   "execution_count": 5,
   "metadata": {},
   "outputs": [
    {
     "name": "stdout",
     "output_type": "stream",
     "text": [
      "C\n",
      "C Sharp\n"
     ]
    }
   ],
   "source": [
    "print(language_courses[0])\n",
    "print(language_courses[3])"
   ]
  },
  {
   "cell_type": "code",
   "execution_count": 6,
   "metadata": {},
   "outputs": [
    {
     "name": "stdout",
     "output_type": "stream",
     "text": [
      "C Sharp\n",
      "JAVA\n"
     ]
    }
   ],
   "source": [
    "print(language_courses[-1]) # negative indexing\n",
    "print(language_courses[-2])"
   ]
  },
  {
   "cell_type": "code",
   "execution_count": 7,
   "metadata": {},
   "outputs": [
    {
     "name": "stdout",
     "output_type": "stream",
     "text": [
      "C\n",
      "C++\n",
      "JAVA\n",
      "C Sharp\n"
     ]
    }
   ],
   "source": [
    "for c in language_courses:\n",
    "    print(c)"
   ]
  },
  {
   "cell_type": "code",
   "execution_count": 11,
   "metadata": {},
   "outputs": [
    {
     "name": "stdout",
     "output_type": "stream",
     "text": [
      "SL. 0 C\n",
      "SL. 1 C++\n",
      "SL. 2 JAVA\n",
      "SL. 3 C Sharp\n"
     ]
    }
   ],
   "source": [
    "for i,c in enumerate(language_courses):\n",
    "    print('SL. %d %s' % (i,c))"
   ]
  },
  {
   "cell_type": "code",
   "execution_count": 12,
   "metadata": {},
   "outputs": [
    {
     "name": "stdout",
     "output_type": "stream",
     "text": [
      "[0, 1, 4, 9, 16, 25]\n"
     ]
    }
   ],
   "source": [
    "nums = [0,1,2,3,4,5]\n",
    "squares = []\n",
    "\n",
    "for i in nums:\n",
    "    squares.append(i**2)\n",
    "print(squares)"
   ]
  },
  {
   "cell_type": "code",
   "execution_count": 16,
   "metadata": {},
   "outputs": [
    {
     "name": "stdout",
     "output_type": "stream",
     "text": [
      "[0, 1, 4, 9, 16, 25]\n"
     ]
    }
   ],
   "source": [
    "# List Comprehension\n",
    "nums = [0,1,2,3,4,5]\n",
    "squares = [i**2 for i in nums]\n",
    "print(squares)"
   ]
  },
  {
   "cell_type": "code",
   "execution_count": 19,
   "metadata": {},
   "outputs": [
    {
     "name": "stdout",
     "output_type": "stream",
     "text": [
      "[0, 4, 16]\n"
     ]
    }
   ],
   "source": [
    "even_squares = [i**2 for i in nums if i%2 == 0]\n",
    "print(even_squares)"
   ]
  },
  {
   "cell_type": "code",
   "execution_count": 20,
   "metadata": {},
   "outputs": [
    {
     "name": "stdout",
     "output_type": "stream",
     "text": [
      "['C', 'C++', 'JAVA', 'C Sharp']\n"
     ]
    }
   ],
   "source": [
    "print(language_courses)"
   ]
  },
  {
   "cell_type": "code",
   "execution_count": 21,
   "metadata": {},
   "outputs": [
    {
     "name": "stdout",
     "output_type": "stream",
     "text": [
      "['C', 'C++', 'JAVA', 'C#']\n"
     ]
    }
   ],
   "source": [
    "language_courses[-1] = 'C#'\n",
    "print(language_courses)"
   ]
  },
  {
   "cell_type": "code",
   "execution_count": 22,
   "metadata": {},
   "outputs": [
    {
     "name": "stdout",
     "output_type": "stream",
     "text": [
      "['C', 'C++', 'JAVA', 'C#', 'Python']\n"
     ]
    }
   ],
   "source": [
    "language_courses.append('Python')\n",
    "print(language_courses)"
   ]
  },
  {
   "cell_type": "code",
   "execution_count": 23,
   "metadata": {},
   "outputs": [
    {
     "name": "stdout",
     "output_type": "stream",
     "text": [
      "['C', 'C++', 'JAVA', 'JS', 'C#', 'Python']\n"
     ]
    }
   ],
   "source": [
    "language_courses.insert(3, \"JS\")\n",
    "print(language_courses)"
   ]
  },
  {
   "cell_type": "code",
   "execution_count": 24,
   "metadata": {},
   "outputs": [
    {
     "name": "stdout",
     "output_type": "stream",
     "text": [
      "['C', 'C++', 'JAVA', 'JS', 'C#', 'PHP', 'Python']\n"
     ]
    }
   ],
   "source": [
    "language_courses.insert(5, 'PHP')\n",
    "print(language_courses)"
   ]
  },
  {
   "cell_type": "code",
   "execution_count": 25,
   "metadata": {},
   "outputs": [
    {
     "name": "stdout",
     "output_type": "stream",
     "text": [
      "['C', 'C++', 'JAVA', 'JS', 'C#', 'PHP', 'Python', 'Data Structure', 'Algorithm', 'Artificial Intelligence']\n"
     ]
    }
   ],
   "source": [
    "algo_courses = ['Data Structure', 'Algorithm', 'Artificial Intelligence']\n",
    "courses = language_courses + algo_courses\n",
    "print(courses)"
   ]
  },
  {
   "cell_type": "code",
   "execution_count": 26,
   "metadata": {},
   "outputs": [
    {
     "name": "stdout",
     "output_type": "stream",
     "text": [
      "['C', 'C++', 'JAVA', 'JS', 'C#', 'PHP', 'Python', 'Data Structure', 'Algorithm', 'Artificial Intelligence', 'abc']\n"
     ]
    }
   ],
   "source": [
    "courses.extend(['abc'])\n",
    "print(courses)"
   ]
  },
  {
   "cell_type": "code",
   "execution_count": 27,
   "metadata": {},
   "outputs": [
    {
     "name": "stdout",
     "output_type": "stream",
     "text": [
      "['C', 'C++', 'JAVA', 'JS', 'C#', 'PHP', 'Python', 'Data Structure', 'Algorithm', 'Artificial Intelligence', 'abc', 'a', 'b', 'c']\n"
     ]
    }
   ],
   "source": [
    "courses.extend('abc')\n",
    "print(courses)"
   ]
  },
  {
   "cell_type": "code",
   "execution_count": 28,
   "metadata": {},
   "outputs": [
    {
     "name": "stdout",
     "output_type": "stream",
     "text": [
      "c\n",
      "['C', 'C++', 'JAVA', 'JS', 'C#', 'PHP', 'Python', 'Data Structure', 'Algorithm', 'Artificial Intelligence', 'abc', 'a', 'b']\n"
     ]
    }
   ],
   "source": [
    "poped_item = courses.pop() # remove and return the last element\n",
    "print(poped_item)\n",
    "print(courses)"
   ]
  },
  {
   "cell_type": "code",
   "execution_count": 29,
   "metadata": {},
   "outputs": [
    {
     "name": "stdout",
     "output_type": "stream",
     "text": [
      "b\n",
      "['C', 'C++', 'JAVA', 'JS', 'C#', 'PHP', 'Python', 'Data Structure', 'Algorithm', 'Artificial Intelligence', 'abc', 'a']\n"
     ]
    }
   ],
   "source": [
    "poped_item = courses.pop() # remove and return the last element\n",
    "print(poped_item)\n",
    "print(courses)"
   ]
  },
  {
   "cell_type": "code",
   "execution_count": 30,
   "metadata": {},
   "outputs": [
    {
     "name": "stdout",
     "output_type": "stream",
     "text": [
      "abc\n",
      "['C', 'C++', 'JAVA', 'JS', 'C#', 'PHP', 'Python', 'Data Structure', 'Algorithm', 'Artificial Intelligence', 'a']\n"
     ]
    }
   ],
   "source": [
    "print(courses.pop(-2))\n",
    "print(courses)"
   ]
  },
  {
   "cell_type": "code",
   "execution_count": 31,
   "metadata": {},
   "outputs": [
    {
     "name": "stdout",
     "output_type": "stream",
     "text": [
      "a\n",
      "['C', 'C++', 'JAVA', 'JS', 'C#', 'PHP', 'Python', 'Data Structure', 'Algorithm', 'Artificial Intelligence']\n"
     ]
    }
   ],
   "source": [
    "print(courses.pop(10))\n",
    "print(courses)"
   ]
  },
  {
   "cell_type": "code",
   "execution_count": 32,
   "metadata": {},
   "outputs": [],
   "source": [
    "# remove() --> remove an item by value. Incase of multiple instances it will remove the 1st occarance only.\n",
    "# del()    --> Remove items by index or slice\n",
    "# clear()  --> remove all the items\n",
    "# list comprehension can also be used to remove multiple items with some sepefic conditions"
   ]
  },
  {
   "cell_type": "code",
   "execution_count": 33,
   "metadata": {},
   "outputs": [
    {
     "name": "stdout",
     "output_type": "stream",
     "text": [
      "['C', 'C++', 'JAVA', 'JS', 'C#', 'PHP', 'Python', 'Data Structure', 'Algorithm', 'Artificial Intelligence']\n"
     ]
    }
   ],
   "source": [
    "print(courses)"
   ]
  },
  {
   "cell_type": "code",
   "execution_count": 35,
   "metadata": {},
   "outputs": [],
   "source": [
    "# slice operator :\n",
    "# start(inclusive) : end(exclusive)"
   ]
  },
  {
   "cell_type": "code",
   "execution_count": 34,
   "metadata": {},
   "outputs": [
    {
     "name": "stdout",
     "output_type": "stream",
     "text": [
      "['C', 'C++']\n"
     ]
    }
   ],
   "source": [
    "print(courses[0:2])"
   ]
  },
  {
   "cell_type": "code",
   "execution_count": 36,
   "metadata": {},
   "outputs": [
    {
     "name": "stdout",
     "output_type": "stream",
     "text": [
      "['C', 'C++', 'JAVA']\n"
     ]
    }
   ],
   "source": [
    "print(courses[:3])"
   ]
  },
  {
   "cell_type": "code",
   "execution_count": 37,
   "metadata": {},
   "outputs": [
    {
     "name": "stdout",
     "output_type": "stream",
     "text": [
      "['JS', 'C#', 'PHP', 'Python', 'Data Structure', 'Algorithm', 'Artificial Intelligence']\n"
     ]
    }
   ],
   "source": [
    "print(courses[3:])"
   ]
  },
  {
   "cell_type": "code",
   "execution_count": 38,
   "metadata": {},
   "outputs": [
    {
     "name": "stdout",
     "output_type": "stream",
     "text": [
      "['C', 'C++', 'JAVA', 'JS', 'C#', 'PHP', 'Python', 'Data Structure', 'Algorithm']\n"
     ]
    }
   ],
   "source": [
    "print(courses[:-1])"
   ]
  },
  {
   "cell_type": "code",
   "execution_count": 39,
   "metadata": {},
   "outputs": [
    {
     "name": "stdout",
     "output_type": "stream",
     "text": [
      "['JAVA', 'JS', 'C#', 'PHP', 'Python', 'Data Structure']\n"
     ]
    }
   ],
   "source": [
    "print(courses[2:-2])"
   ]
  },
  {
   "cell_type": "code",
   "execution_count": 40,
   "metadata": {},
   "outputs": [
    {
     "name": "stdout",
     "output_type": "stream",
     "text": [
      "['abc', 1, 'x', 3.32]\n"
     ]
    }
   ],
   "source": [
    "listOfMixedTypes = ['abc',1,'x',3.32]\n",
    "print(listOfMixedTypes)"
   ]
  },
  {
   "cell_type": "code",
   "execution_count": 41,
   "metadata": {},
   "outputs": [
    {
     "name": "stdout",
     "output_type": "stream",
     "text": [
      "[['a', 'b'], [1, 2, 3, 4, 5], ['One', 'Two', 'Three']]\n"
     ]
    }
   ],
   "source": [
    "listOfLists = [\n",
    "    ['a','b'],\n",
    "    [1,2,3,4,5],\n",
    "    ['One','Two', 'Three']\n",
    "]\n",
    "print(listOfLists)"
   ]
  },
  {
   "cell_type": "code",
   "execution_count": 42,
   "metadata": {},
   "outputs": [
    {
     "name": "stdout",
     "output_type": "stream",
     "text": [
      "Two\n"
     ]
    }
   ],
   "source": [
    "print(listOfLists[2][1])"
   ]
  },
  {
   "cell_type": "code",
   "execution_count": 43,
   "metadata": {},
   "outputs": [
    {
     "name": "stdout",
     "output_type": "stream",
     "text": [
      "[['a', 'b'], [1, 2, 3, 4, 5]]\n"
     ]
    }
   ],
   "source": [
    "listOfLists.pop()\n",
    "print(listOfLists)"
   ]
  },
  {
   "cell_type": "code",
   "execution_count": 2,
   "metadata": {},
   "outputs": [],
   "source": [
    "a = ['a','b','c']\n",
    "a.reverse()\n"
   ]
  },
  {
   "cell_type": "code",
   "execution_count": null,
   "metadata": {},
   "outputs": [],
   "source": []
  }
 ],
 "metadata": {
  "kernelspec": {
   "name": "python3",
   "display_name": "Python 3.8.3 32-bit",
   "metadata": {
    "interpreter": {
     "hash": "7a542ca580817fc4dd55327026e074e2fa0cd470fc5dee9350c2d8b13822db8d"
    }
   }
  },
  "language_info": {
   "codemirror_mode": {
    "name": "ipython",
    "version": 3
   },
   "file_extension": ".py",
   "mimetype": "text/x-python",
   "name": "python",
   "nbconvert_exporter": "python",
   "pygments_lexer": "ipython3",
   "version": "3.8.3-final"
  }
 },
 "nbformat": 4,
 "nbformat_minor": 2
}